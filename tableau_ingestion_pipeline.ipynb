{
 "cells": [
  {
   "cell_type": "code",
   "execution_count": 1,
   "id": "ae409bed",
   "metadata": {},
   "outputs": [],
   "source": [
    "import numpy as np\n",
    "import os\n",
    "import matplotlib.pyplot as plt\n",
    "import statsmodels.api as sm\n",
    "import pandas as pd  \n",
    "import seaborn as sns\n",
    "from pmdarima import auto_arima\n",
    "from deep_translator import GoogleTranslator\n",
    "%matplotlib inline\n",
    "import plotly.express as px\n",
    "import plotly.graph_objects as go"
   ]
  },
  {
   "cell_type": "code",
   "execution_count": null,
   "id": "a92e330d",
   "metadata": {
    "scrolled": true
   },
   "outputs": [],
   "source": [
    "# #Set working directory\n",
    "# os.chdir('/Users/tejveero/Library/CloudStorage/GoogleDrive-tejveerobr@gmail.com/My Drive/SCM.800/Wireframe')\n",
    "# file_path = 'model_results.xlsx'\n",
    "# file_path2 = 'tableau_ingestion.xlsx'\n",
    "\n",
    "# # Use the read_csv function to load the CSV file into a DataFrame\n",
    "# df_c = pd.read_excel(file_path, sheet_name='Customers_Served')\n",
    "# df_m = pd.read_excel(file_path, sheet_name='Materials_Stored')"
   ]
  },
  {
   "cell_type": "code",
   "execution_count": 2,
   "id": "b5d373f3",
   "metadata": {},
   "outputs": [],
   "source": [
    "# Set working directory\n",
    "os.chdir('/Users/tejveero/Library/CloudStorage/GoogleDrive-tejveerobr@gmail.com/My Drive/SCM.800/Wireframe')\n",
    "\n",
    "# Mapping of filenames to scenario labels\n",
    "files = {\n",
    "    'model_baseline_results.xlsx': 'Scenario 0 - Baseline',\n",
    "    'model_optimal_results.xlsx': 'Scenario 1 - Optimal',\n",
    "    'model_BigCust_results.xlsx': 'Scenario 2 - Large Customers',\n",
    "    'model_VaR18_results.xlsx': 'Scenario 3 - Value-at-Risk',\n",
    "}\n",
    "\n",
    "# Empty lists to hold intermediate DataFrames\n",
    "df_c_list = []\n",
    "df_m_list = []\n",
    "\n",
    "# Loop over files and append DataFrames with scenario column\n",
    "for filename, scenario in files.items():\n",
    "    temp_c = pd.read_excel(filename, sheet_name='Customers_Served')\n",
    "    temp_c['Scenario'] = scenario\n",
    "    df_c_list.append(temp_c)\n",
    "\n",
    "    temp_m = pd.read_excel(filename, sheet_name='Materials_Stored')\n",
    "    temp_m['Scenario'] = scenario\n",
    "    df_m_list.append(temp_m)\n",
    "\n",
    "# Combine all into single DataFrames\n",
    "df_c = pd.concat(df_c_list, ignore_index=True)\n",
    "df_m = pd.concat(df_m_list, ignore_index=True)"
   ]
  },
  {
   "cell_type": "markdown",
   "id": "77431b58",
   "metadata": {},
   "source": [
    "Rename fields"
   ]
  },
  {
   "cell_type": "code",
   "execution_count": 5,
   "id": "3ac830c8",
   "metadata": {},
   "outputs": [],
   "source": [
    "# Step 1: Rename columns in df_c\n",
    "df_c = df_c.rename(columns={\n",
    "    'zipcode': 'zip_code',\n",
    "    'Warehouse': 'DC_to_serve_from',\n",
    "    't_cost': 'lane_cost_estimate',\n",
    "    'emissions': 'lane_emission_estimate'\n",
    "})\n",
    "\n",
    "# Step 2: Rename columns in df_m\n",
    "df_m = df_m.rename(columns={\n",
    "    'key': 'product_location_customer_code(id)',\n",
    "    'Warehouse': 'target_location',\n",
    "    'Material': 'product_id',\n",
    "    'material_name': 'product_name',\n",
    "    'rev_class': 'product_revenue_class',\n",
    "    'med_class': 'product_medical_class',\n",
    "    'cogs': 'product_value',\n",
    "    'demand_served': 'target_inventory_level'\n",
    "})"
   ]
  },
  {
   "cell_type": "code",
   "execution_count": 6,
   "id": "4ad9f576",
   "metadata": {},
   "outputs": [
    {
     "data": {
      "text/plain": [
       "1663"
      ]
     },
     "execution_count": 6,
     "metadata": {},
     "output_type": "execute_result"
    }
   ],
   "source": [
    "df_c['customer_name'].nunique()"
   ]
  },
  {
   "cell_type": "markdown",
   "id": "cb1a480f",
   "metadata": {},
   "source": [
    "Aggregate Ambient & Refrigerated"
   ]
  },
  {
   "cell_type": "code",
   "execution_count": 7,
   "id": "b9f6bbac",
   "metadata": {},
   "outputs": [],
   "source": [
    "##FOR DF_M\n",
    "# Remove _A and _R suffixes\n",
    "df_m['target_location'] = df_m['target_location'].str.replace(r'_[AR]$', '', regex=True)\n",
    "\n",
    "# Group and aggregate\n",
    "df_m = df_m.groupby(\n",
    "    ['Scenario','customer_id', 'product_id', 'product_name', 'target_location', \n",
    "     'product_location_customer_code(id)', 'product_revenue_class', 'product_medical_class'],\n",
    "    as_index=False\n",
    ").agg({\n",
    "    'target_inventory_level': 'sum',\n",
    "    'product_value': 'sum'\n",
    "})"
   ]
  },
  {
   "cell_type": "code",
   "execution_count": 8,
   "id": "3e09d31f",
   "metadata": {},
   "outputs": [],
   "source": [
    "##FOR DF_C\n",
    "#Remove _A and _R suffixes\n",
    "df_c['DC_to_serve_from'] = df_c['DC_to_serve_from'].str.replace(r'_[AR]$', '', regex=True)\n",
    "\n",
    "# Step 2: Group and sum\n",
    "df_c = df_c.groupby(\n",
    "    ['Scenario','customer_id', 'customer_name', 'DC_to_serve_from', 'zip_code'],\n",
    "    as_index=False\n",
    ").agg({\n",
    "    'lane_emission_estimate': 'sum',\n",
    "    'lane_cost_estimate': 'sum'\n",
    "})"
   ]
  },
  {
   "cell_type": "code",
   "execution_count": 9,
   "id": "d8246ab1",
   "metadata": {},
   "outputs": [
    {
     "data": {
      "text/plain": [
       "1663"
      ]
     },
     "execution_count": 9,
     "metadata": {},
     "output_type": "execute_result"
    }
   ],
   "source": [
    "df_c['customer_name'].nunique()"
   ]
  },
  {
   "cell_type": "markdown",
   "id": "aa2c2b7e",
   "metadata": {},
   "source": [
    "Export to excel in drive"
   ]
  },
  {
   "cell_type": "code",
   "execution_count": 12,
   "id": "8be26492",
   "metadata": {},
   "outputs": [],
   "source": [
    "# Export df_c and df_m to an Excel file with two sheets\n",
    "with pd.ExcelWriter('tableau_ingestion.xlsx') as writer:\n",
    "    df_c.to_excel(writer, sheet_name='df_c', index=False)\n",
    "    df_m.to_excel(writer, sheet_name='df_m', index=False)"
   ]
  }
 ],
 "metadata": {
  "kernelspec": {
   "display_name": "base",
   "language": "python",
   "name": "python3"
  },
  "language_info": {
   "codemirror_mode": {
    "name": "ipython",
    "version": 3
   },
   "file_extension": ".py",
   "mimetype": "text/x-python",
   "name": "python",
   "nbconvert_exporter": "python",
   "pygments_lexer": "ipython3",
   "version": "3.11.7"
  }
 },
 "nbformat": 4,
 "nbformat_minor": 5
}
